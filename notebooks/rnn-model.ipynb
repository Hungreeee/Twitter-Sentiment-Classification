{
 "cells": [
  {
   "cell_type": "code",
   "execution_count": 2,
   "metadata": {},
   "outputs": [],
   "source": [
    "import numpy as np\n",
    "import pandas as pd\n",
    "import matplotlib.pyplot as plt\n",
    "\n",
    "import torch\n",
    "import torch.nn as nn\n",
    "import torch.nn.functional as F\n",
    "from torch.utils.data import DataLoader, TensorDataset\n",
    "\n",
    "# keras\n",
    "from tensorflow import keras \n",
    "from keras.preprocessing.text import Tokenizer\n",
    "from keras.preprocessing.sequence import pad_sequences\n",
    "from keras.utils import set_random_seed\n",
    "\n",
    "# scipy\n",
    "from scipy import sparse\n",
    "\n",
    "from sklearn.preprocessing import LabelEncoder\n",
    "from sklearn.model_selection import train_test_split"
   ]
  },
  {
   "cell_type": "code",
   "execution_count": 3,
   "metadata": {},
   "outputs": [],
   "source": [
    "from gensim.models import KeyedVectors\n",
    "kv_model = KeyedVectors.load_word2vec_format('../utils/crawl-300d-2M.vec')"
   ]
  },
  {
   "cell_type": "code",
   "execution_count": 4,
   "metadata": {},
   "outputs": [],
   "source": [
    "# def load_glove_model(File):\n",
    "#   print(\"Loading Glove Model\")\n",
    "#   glove_model = {}\n",
    "#   with open(File, 'r', encoding=\"utf8\") as f:\n",
    "#     for line in f:\n",
    "#       split_line = line.split()\n",
    "#       word = split_line[0]\n",
    "#       embedding = np.array(split_line[1:], dtype=np.float64)\n",
    "#       glove_model[word] = embedding\n",
    "#   print(f\"{len(glove_model)} words loaded!\")\n",
    "#   return glove_model\n",
    "\n",
    "# GloveModel = load_glove_model('../utils/glove.twitter.27B.200d.txt')"
   ]
  },
  {
   "cell_type": "code",
   "execution_count": 5,
   "metadata": {},
   "outputs": [],
   "source": [
    "set_random_seed(13)"
   ]
  },
  {
   "cell_type": "code",
   "execution_count": 6,
   "metadata": {},
   "outputs": [],
   "source": [
    "X = np.load('../data/preprocessed_data/feature_vectors_normal.npy', allow_pickle=True)\n",
    "y = np.load('../data/preprocessed_data/target_vectors_normal.npy', allow_pickle=True)"
   ]
  },
  {
   "cell_type": "code",
   "execution_count": 7,
   "metadata": {},
   "outputs": [
    {
     "name": "stdout",
     "output_type": "stream",
     "text": [
      "Train set size: 1436333\n",
      "Test set size 79796\n",
      "Validation set size 79797\n"
     ]
    }
   ],
   "source": [
    "X_train_split, X_test_split, y_train, y_test = train_test_split(X, y, train_size=0.9, random_state=13)\n",
    "X_test_split, X_val_split, y_test, y_val = train_test_split(X_test_split, y_test, train_size=0.5, random_state=13)\n",
    "\n",
    "print(\"Train set size:\", X_train_split.shape[0])\n",
    "print(\"Test set size\", X_test_split.shape[0])\n",
    "print(\"Validation set size\", X_val_split.shape[0])"
   ]
  },
  {
   "cell_type": "markdown",
   "metadata": {},
   "source": [
    "**GloVe word embeddings**"
   ]
  },
  {
   "cell_type": "markdown",
   "metadata": {},
   "source": [
    "Let us begin by vectorizing `X` and `y`. Here, we use `keras`'s tokenizer because it allows us to preprocess the data in a simpler and more convenient fashion than Pytorch's `torchtext` or `pytorch-nlp`. "
   ]
  },
  {
   "cell_type": "code",
   "execution_count": 8,
   "metadata": {},
   "outputs": [
    {
     "name": "stdout",
     "output_type": "stream",
     "text": [
      "Vocabulary size:  219191\n"
     ]
    }
   ],
   "source": [
    "# Initiate Keras tokenizer and vectorizer\n",
    "tokenizer = Tokenizer()\n",
    "tokenizer.fit_on_texts(X_train_split)\n",
    "\n",
    "# Transfrom X into vectorized values\n",
    "X_train_transformed = tokenizer.texts_to_sequences(X_train_split)\n",
    "X_val_transformed = tokenizer.texts_to_sequences(X_val_split)\n",
    "X_test_transformed = tokenizer.texts_to_sequences(X_test_split)\n",
    "\n",
    "# View vocabulary size\n",
    "print(\"Vocabulary size: \", len(tokenizer.word_index))"
   ]
  },
  {
   "cell_type": "code",
   "execution_count": 9,
   "metadata": {},
   "outputs": [],
   "source": [
    "# Initiate the label encoder to convert target data into (0, 1) instead of (0, 4)\n",
    "label_encoder = LabelEncoder()\n",
    "\n",
    "# Transform y into numerical values (0, 1)\n",
    "y_train = label_encoder.fit_transform(y_train)\n",
    "y_val = label_encoder.transform(y_val)\n",
    "y_test = label_encoder.transform(y_test)"
   ]
  },
  {
   "cell_type": "markdown",
   "metadata": {},
   "source": [
    "We are not yet finished. From the summary, it is quite noticeable that the lengths of the word vectors are largely uneven and deviating. This is why we should always consider padding/truncating during preprocessing. While this is not required for all deep learning model, uneven length in data may give the model a harder time to process batches and slow down the computation process. "
   ]
  },
  {
   "cell_type": "code",
   "execution_count": 10,
   "metadata": {},
   "outputs": [
    {
     "name": "stdout",
     "output_type": "stream",
     "text": [
      "Statistics summary of vector lengths in X_transformed: \n"
     ]
    },
    {
     "data": {
      "text/plain": [
       "count    1595926.00\n",
       "mean          13.09\n",
       "std            7.23\n",
       "min            1.00\n",
       "25%            7.00\n",
       "50%           12.00\n",
       "75%           19.00\n",
       "90%           24.00\n",
       "97.5%         27.00\n",
       "max           53.00\n",
       "dtype: object"
      ]
     },
     "execution_count": 10,
     "metadata": {},
     "output_type": "execute_result"
    }
   ],
   "source": [
    "print('Statistics summary of vector lengths in X_transformed: ')\n",
    "pd.Series([len(text.split()) for text in X]).describe(percentiles=[.25, .5, .75, .9, .975]).apply(\"{0:.2f}\".format)"
   ]
  },
  {
   "cell_type": "code",
   "execution_count": 11,
   "metadata": {},
   "outputs": [
    {
     "data": {
      "image/png": "[encoded data removed]",
      "text/plain": [
       "<Figure size 640x480 with 1 Axes>"
      ]
     },
     "metadata": {},
     "output_type": "display_data"
    }
   ],
   "source": [
    "plt.hist([len(text.split()) for text in X])\n",
    "plt.show()"
   ]
  },
  {
   "cell_type": "markdown",
   "metadata": {},
   "source": [
    "\n",
    "\n",
    "For our case, we can see that the maximum size is quite short (50 tokens) so there is no need for truncation. However, padding will be performed to ensure that the vectors have the same length."
   ]
  },
  {
   "cell_type": "code",
   "execution_count": 12,
   "metadata": {},
   "outputs": [
    {
     "name": "stdout",
     "output_type": "stream",
     "text": [
      "Statistics summary of vector lengths in X_transformed: \n"
     ]
    },
    {
     "data": {
      "text/plain": [
       "count    1436333.00\n",
       "mean          25.00\n",
       "std            0.00\n",
       "min           25.00\n",
       "25%           25.00\n",
       "50%           25.00\n",
       "75%           25.00\n",
       "max           25.00\n",
       "dtype: object"
      ]
     },
     "execution_count": 12,
     "metadata": {},
     "output_type": "execute_result"
    }
   ],
   "source": [
    "# Perform padding on X_transformed\n",
    "X_train_transformed = pad_sequences(X_train_transformed, maxlen=25, padding='post', truncating='post')\n",
    "X_val_transformed = pad_sequences(X_val_transformed, maxlen=25, padding='post', truncating='post')\n",
    "X_test_transformed = pad_sequences(X_test_transformed, maxlen=25, padding='post', truncating='post')\n",
    "\n",
    "print('Statistics summary of vector lengths in X_transformed: ')\n",
    "pd.Series([len(text) for text in X_train_transformed]).describe().apply(\"{0:.2f}\".format)"
   ]
  },
  {
   "cell_type": "code",
   "execution_count": 13,
   "metadata": {},
   "outputs": [],
   "source": [
    "train_set = TensorDataset(torch.tensor(X_train_transformed), torch.tensor(y_train).reshape(-1, 1))\n",
    "val_set = TensorDataset(torch.tensor(X_val_transformed), torch.tensor(y_val).reshape(-1, 1))\n",
    "test_set = TensorDataset(torch.tensor(X_test_transformed), torch.tensor(y_test).reshape(-1, 1))\n",
    "\n",
    "train_loader = DataLoader(train_set, batch_size=128, shuffle=True)\n",
    "val_loader = DataLoader(val_set, batch_size=128)\n",
    "test_loader = DataLoader(test_set, batch_size=128)"
   ]
  },
  {
   "cell_type": "markdown",
   "metadata": {},
   "source": [
    "Now, we may continue building the embedding word vectors from our built vocabulary. The idea is to loop through each item in our vocabulary to see for each word if GloVe has the embedding vectors for it. If yes, we may load it into our embeddings matrix; otherwise, we leave it as empty (fill with zeros)."
   ]
  },
  {
   "cell_type": "code",
   "execution_count": 14,
   "metadata": {},
   "outputs": [],
   "source": [
    "# Obtain the vocabulary size of our data \n",
    "# (+1 is to add padding token, which is not initially included in the vocabulary)\n",
    "VOCAB_SIZE = len(tokenizer.word_index) + 1\n",
    "\n",
    "# Embedding size. This is the default dimensions of the GloVe's embeddings.\n",
    "EMBEDDINGS_DIM = 300\n",
    "\n",
    "OUTPUT_SIZE = 1\n",
    "HIDDEN_SIZE = 512\n",
    "BATCH_SIZE = 128\n",
    "NUM_EPOCHS = 80"
   ]
  },
  {
   "cell_type": "code",
   "execution_count": 15,
   "metadata": {},
   "outputs": [],
   "source": [
    "# Initiate an empty matrix as a embeddings container\n",
    "embedding_matrix = np.zeros((VOCAB_SIZE, EMBEDDINGS_DIM))\n",
    "\n",
    "# Loading GloVe weights into our embedding matrix\n",
    "for word, index in tokenizer.word_index.items():\n",
    "  if word in kv_model:\n",
    "    embedding_matrix[index] = kv_model[word].copy()\n",
    "\n",
    "embedding_matrix = torch.FloatTensor(embedding_matrix)"
   ]
  },
  {
   "cell_type": "markdown",
   "metadata": {},
   "source": [
    "Let us look at the shape of the embedding matrix for dimensionality check. It should be (vocabulary size, embeddings dimension)."
   ]
  },
  {
   "cell_type": "code",
   "execution_count": 16,
   "metadata": {},
   "outputs": [
    {
     "data": {
      "text/plain": [
       "torch.Size([219192, 300])"
      ]
     },
     "execution_count": 16,
     "metadata": {},
     "output_type": "execute_result"
    }
   ],
   "source": [
    "embedding_matrix.shape"
   ]
  },
  {
   "cell_type": "markdown",
   "metadata": {},
   "source": [
    "Recurrent neural network (RNN) model "
   ]
  },
  {
   "cell_type": "code",
   "execution_count": 17,
   "metadata": {},
   "outputs": [
    {
     "name": "stdout",
     "output_type": "stream",
     "text": [
      "cuda\n"
     ]
    }
   ],
   "source": [
    "device = torch.device(\"cuda\" if torch.cuda.is_available() else \"cpu\")\n",
    "print(device)"
   ]
  },
  {
   "cell_type": "code",
   "execution_count": 18,
   "metadata": {},
   "outputs": [],
   "source": [
    "torch.manual_seed(13)\n",
    "if torch.cuda.is_available():\n",
    "  torch.cuda.manual_seed_all(13)\n",
    "torch.backends.cudnn.deterministic = True\n",
    "torch.backends.cudnn.benchmark = False"
   ]
  },
  {
   "cell_type": "code",
   "execution_count": 19,
   "metadata": {},
   "outputs": [
    {
     "ename": "AttributeError",
     "evalue": "cannot assign module before Module.__init__() call",
     "output_type": "error",
     "traceback": [
      "\u001b[1;31m---------------------------------------------------------------------------\u001b[0m",
      "\u001b[1;31mAttributeError\u001b[0m                            Traceback (most recent call last)",
      "\u001b[1;32md:\\Personal folder\\Sentiment Analysis\\notebooks\\rnn-model.ipynb Cell 25\u001b[0m in \u001b[0;36m2\n\u001b[0;32m     <a href='vscode-notebook-cell:/d%3A/Personal%20folder/Sentiment%20Analysis/notebooks/rnn-model.ipynb#X33sZmlsZQ%3D%3D?line=16'>17</a>\u001b[0m     out, ht \u001b[39m=\u001b[39m \u001b[39mself\u001b[39m\u001b[39m.\u001b[39mrecurrent_stack(emb, \u001b[39mNone\u001b[39;00m)\n\u001b[0;32m     <a href='vscode-notebook-cell:/d%3A/Personal%20folder/Sentiment%20Analysis/notebooks/rnn-model.ipynb#X33sZmlsZQ%3D%3D?line=17'>18</a>\u001b[0m     \u001b[39mreturn\u001b[39;00m out\n\u001b[1;32m---> <a href='vscode-notebook-cell:/d%3A/Personal%20folder/Sentiment%20Analysis/notebooks/rnn-model.ipynb#X33sZmlsZQ%3D%3D?line=19'>20</a>\u001b[0m model \u001b[39m=\u001b[39m RNN(OUTPUT_SIZE, EMBEDDINGS_DIM, HIDDEN_SIZE, \u001b[39m2\u001b[39;49m)\n\u001b[0;32m     <a href='vscode-notebook-cell:/d%3A/Personal%20folder/Sentiment%20Analysis/notebooks/rnn-model.ipynb#X33sZmlsZQ%3D%3D?line=20'>21</a>\u001b[0m \u001b[39mprint\u001b[39m(model)\n",
      "\u001b[1;32md:\\Personal folder\\Sentiment Analysis\\notebooks\\rnn-model.ipynb Cell 25\u001b[0m in \u001b[0;36m3\n\u001b[0;32m      <a href='vscode-notebook-cell:/d%3A/Personal%20folder/Sentiment%20Analysis/notebooks/rnn-model.ipynb#X33sZmlsZQ%3D%3D?line=1'>2</a>\u001b[0m \u001b[39mdef\u001b[39;00m \u001b[39m__init__\u001b[39m(\u001b[39mself\u001b[39m, output_size, embedding_dim, hidden_size, hidden_layer, dropout\u001b[39m=\u001b[39m\u001b[39m0.2\u001b[39m):\n\u001b[1;32m----> <a href='vscode-notebook-cell:/d%3A/Personal%20folder/Sentiment%20Analysis/notebooks/rnn-model.ipynb#X33sZmlsZQ%3D%3D?line=2'>3</a>\u001b[0m   \u001b[39mself\u001b[39;49m\u001b[39m.\u001b[39;49membedding \u001b[39m=\u001b[39m nn\u001b[39m.\u001b[39mEmbedding\u001b[39m.\u001b[39mfrom_pretrained(embedding_matrix)\n\u001b[0;32m      <a href='vscode-notebook-cell:/d%3A/Personal%20folder/Sentiment%20Analysis/notebooks/rnn-model.ipynb#X33sZmlsZQ%3D%3D?line=3'>4</a>\u001b[0m   \u001b[39mself\u001b[39m\u001b[39m.\u001b[39mrecurrent \u001b[39m=\u001b[39m nn\u001b[39m.\u001b[39mRNN(input_size\u001b[39m=\u001b[39membedding_dim, \n\u001b[0;32m      <a href='vscode-notebook-cell:/d%3A/Personal%20folder/Sentiment%20Analysis/notebooks/rnn-model.ipynb#X33sZmlsZQ%3D%3D?line=4'>5</a>\u001b[0m            hidden_size\u001b[39m=\u001b[39mhidden_size, \n\u001b[0;32m      <a href='vscode-notebook-cell:/d%3A/Personal%20folder/Sentiment%20Analysis/notebooks/rnn-model.ipynb#X33sZmlsZQ%3D%3D?line=5'>6</a>\u001b[0m            num_layers\u001b[39m=\u001b[39mhidden_layer,\n\u001b[0;32m      <a href='vscode-notebook-cell:/d%3A/Personal%20folder/Sentiment%20Analysis/notebooks/rnn-model.ipynb#X33sZmlsZQ%3D%3D?line=6'>7</a>\u001b[0m            nonlinearity\u001b[39m=\u001b[39m\u001b[39m'\u001b[39m\u001b[39mrelu\u001b[39m\u001b[39m'\u001b[39m,\n\u001b[0;32m      <a href='vscode-notebook-cell:/d%3A/Personal%20folder/Sentiment%20Analysis/notebooks/rnn-model.ipynb#X33sZmlsZQ%3D%3D?line=7'>8</a>\u001b[0m           \u001b[39m#  dropout=dropout,\u001b[39;00m\n\u001b[0;32m      <a href='vscode-notebook-cell:/d%3A/Personal%20folder/Sentiment%20Analysis/notebooks/rnn-model.ipynb#X33sZmlsZQ%3D%3D?line=8'>9</a>\u001b[0m            bidirectional\u001b[39m=\u001b[39m\u001b[39mTrue\u001b[39;00m)\n\u001b[0;32m     <a href='vscode-notebook-cell:/d%3A/Personal%20folder/Sentiment%20Analysis/notebooks/rnn-model.ipynb#X33sZmlsZQ%3D%3D?line=9'>10</a>\u001b[0m   \u001b[39mself\u001b[39m\u001b[39m.\u001b[39mout_layer \u001b[39m=\u001b[39m nn\u001b[39m.\u001b[39mSequential(\n\u001b[0;32m     <a href='vscode-notebook-cell:/d%3A/Personal%20folder/Sentiment%20Analysis/notebooks/rnn-model.ipynb#X33sZmlsZQ%3D%3D?line=10'>11</a>\u001b[0m     nn\u001b[39m.\u001b[39mLinear(in_features\u001b[39m=\u001b[39mhidden_layer, out_features\u001b[39m=\u001b[39moutput_size),\n\u001b[0;32m     <a href='vscode-notebook-cell:/d%3A/Personal%20folder/Sentiment%20Analysis/notebooks/rnn-model.ipynb#X33sZmlsZQ%3D%3D?line=11'>12</a>\u001b[0m     nn\u001b[39m.\u001b[39mSigmoid()\n\u001b[0;32m     <a href='vscode-notebook-cell:/d%3A/Personal%20folder/Sentiment%20Analysis/notebooks/rnn-model.ipynb#X33sZmlsZQ%3D%3D?line=12'>13</a>\u001b[0m   )\n",
      "File \u001b[1;32mc:\\Users\\Hung Nguyen\\AppData\\Local\\Programs\\Python\\Python310\\lib\\site-packages\\torch\\nn\\modules\\module.py:1643\u001b[0m, in \u001b[0;36mModule.__setattr__\u001b[1;34m(self, name, value)\u001b[0m\n\u001b[0;32m   1641\u001b[0m \u001b[39mif\u001b[39;00m \u001b[39misinstance\u001b[39m(value, Module):\n\u001b[0;32m   1642\u001b[0m     \u001b[39mif\u001b[39;00m modules \u001b[39mis\u001b[39;00m \u001b[39mNone\u001b[39;00m:\n\u001b[1;32m-> 1643\u001b[0m         \u001b[39mraise\u001b[39;00m \u001b[39mAttributeError\u001b[39;00m(\n\u001b[0;32m   1644\u001b[0m             \u001b[39m\"\u001b[39m\u001b[39mcannot assign module before Module.__init__() call\u001b[39m\u001b[39m\"\u001b[39m)\n\u001b[0;32m   1645\u001b[0m     remove_from(\u001b[39mself\u001b[39m\u001b[39m.\u001b[39m\u001b[39m__dict__\u001b[39m, \u001b[39mself\u001b[39m\u001b[39m.\u001b[39m_parameters, \u001b[39mself\u001b[39m\u001b[39m.\u001b[39m_buffers, \u001b[39mself\u001b[39m\u001b[39m.\u001b[39m_non_persistent_buffers_set)\n\u001b[0;32m   1646\u001b[0m     \u001b[39mfor\u001b[39;00m hook \u001b[39min\u001b[39;00m _global_module_registration_hooks\u001b[39m.\u001b[39mvalues():\n",
      "\u001b[1;31mAttributeError\u001b[0m: cannot assign module before Module.__init__() call"
     ]
    }
   ],
   "source": [
    "class RNN(nn.Module):\n",
    "  def __init__(self, output_size, embedding_dim, hidden_size, hidden_layer, dropout=0.2):\n",
    "    self.embedding = nn.Embedding.from_pretrained(embedding_matrix)\n",
    "    self.recurrent = nn.RNN(input_size=embedding_dim, \n",
    "             hidden_size=hidden_size, \n",
    "             num_layers=hidden_layer,\n",
    "             nonlinearity='relu',\n",
    "            #  dropout=dropout,\n",
    "             bidirectional=True)\n",
    "    self.out_layer = nn.Sequential(\n",
    "      nn.Linear(in_features=hidden_layer, out_features=output_size),\n",
    "      nn.Sigmoid()\n",
    "    )\n",
    "\n",
    "  def forward(self, input):\n",
    "    emb = self.embedding(input)\n",
    "    out, ht = self.recurrent_stack(emb, None)\n",
    "    return out\n",
    "  \n",
    "model = RNN(OUTPUT_SIZE, EMBEDDINGS_DIM, HIDDEN_SIZE, 2)\n",
    "print(model)"
   ]
  },
  {
   "cell_type": "code",
   "execution_count": null,
   "metadata": {},
   "outputs": [],
   "source": [
    "criterion = nn.BCELoss()\n",
    "optimizer = torch.optim.Adam(model.parameters(), lr=1e-4, weight_decay=0)\n",
    "\n",
    "train_loss_arr = []\n",
    "train_accu_arr = []\n",
    "val_loss_arr = []\n",
    "val_accu_arr = []\n",
    "\n",
    "def train(model, train_loader, val_loader, train_set, val_set, criterion, optimizer, num_epochs=50):\n",
    "\n",
    "  for epoch in range(num_epochs):\n",
    "    total_train_loss = 0\n",
    "    total_train_correct = 0\n",
    "    \n",
    "    model.train()\n",
    "    for input, target in train_loader:\n",
    "      if torch.cuda.is_available:\n",
    "        input, target = input.to(device), target.to(device)\n",
    "      \n",
    "      output = model(input)\n",
    "\n",
    "      loss = criterion(output, target)\n",
    "      total_train_loss += loss.items()\n",
    "      total_train_correct += ((output > 0.5)==target).sum()\n",
    "\n",
    "    \n",
    "\n"
   ]
  }
 ],
 "metadata": {
  "kernelspec": {
   "display_name": "Python 3",
   "language": "python",
   "name": "python3"
  },
  "language_info": {
   "codemirror_mode": {
    "name": "ipython",
    "version": 3
   },
   "file_extension": ".py",
   "mimetype": "text/x-python",
   "name": "python",
   "nbconvert_exporter": "python",
   "pygments_lexer": "ipython3",
   "version": "3.10.4"
  },
  "orig_nbformat": 4
 },
 "nbformat": 4,
 "nbformat_minor": 2
}
