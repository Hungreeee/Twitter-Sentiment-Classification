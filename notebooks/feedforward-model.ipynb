{
 "cells": [
  {
   "cell_type": "code",
   "execution_count": 1,
   "metadata": {},
   "outputs": [],
   "source": [
    "import numpy as np\n",
    "import pandas as pd\n",
    "import matplotlib.pyplot as plt\n",
    "\n",
    "import torch\n",
    "import torch.nn as nn\n",
    "import torch.nn.functional as F\n",
    "from torch.utils.data import DataLoader, TensorDataset\n",
    "\n",
    "# keras\n",
    "from tensorflow import keras \n",
    "from keras.preprocessing.text import Tokenizer\n",
    "from keras.preprocessing.sequence import pad_sequences\n",
    "from keras.utils import set_random_seed\n",
    "\n",
    "# scipy\n",
    "from scipy import sparse\n",
    "\n",
    "from sklearn.preprocessing import LabelEncoder\n",
    "from sklearn.model_selection import train_test_split"
   ]
  },
  {
   "cell_type": "code",
   "execution_count": 2,
   "metadata": {},
   "outputs": [],
   "source": [
    "from gensim.models import KeyedVectors\n",
    "kv_model = KeyedVectors.load_word2vec_format('../utils/crawl-300d-2M.vec')"
   ]
  },
  {
   "cell_type": "code",
   "execution_count": 3,
   "metadata": {},
   "outputs": [],
   "source": [
    "# def load_glove_model(File):\n",
    "#   print(\"Loading Glove Model\")\n",
    "#   glove_model = {}\n",
    "#   with open(File, 'r', encoding=\"utf8\") as f:\n",
    "#     for line in f:\n",
    "#       split_line = line.split()\n",
    "#       word = split_line[0]\n",
    "#       embedding = np.array(split_line[1:], dtype=np.float64)\n",
    "#       glove_model[word] = embedding\n",
    "#   print(f\"{len(glove_model)} words loaded!\")\n",
    "#   return glove_model\n",
    "\n",
    "# GloveModel = load_glove_model('../utils/glove.twitter.27B.200d.txt')"
   ]
  },
  {
   "cell_type": "code",
   "execution_count": 4,
   "metadata": {},
   "outputs": [],
   "source": [
    "set_random_seed(13)"
   ]
  },
  {
   "cell_type": "code",
   "execution_count": 5,
   "metadata": {},
   "outputs": [],
   "source": [
    "X = np.load('../data/preprocessed_data/feature_vectors_normal.npy', allow_pickle=True)\n",
    "y = np.load('../data/preprocessed_data/target_vectors_normal.npy', allow_pickle=True)"
   ]
  },
  {
   "cell_type": "code",
   "execution_count": 6,
   "metadata": {},
   "outputs": [
    {
     "name": "stdout",
     "output_type": "stream",
     "text": [
      "Train set size: 1436333\n",
      "Test set size 79796\n",
      "Validation set size 79797\n"
     ]
    }
   ],
   "source": [
    "X_train_split, X_test_split, y_train, y_test = train_test_split(X, y, train_size=0.9, random_state=13)\n",
    "X_test_split, X_val_split, y_test, y_val = train_test_split(X_test_split, y_test, train_size=0.5, random_state=13)\n",
    "\n",
    "print(\"Train set size:\", X_train_split.shape[0])\n",
    "print(\"Test set size\", X_test_split.shape[0])\n",
    "print(\"Validation set size\", X_val_split.shape[0])"
   ]
  },
  {
   "cell_type": "markdown",
   "metadata": {},
   "source": [
    "**GloVe word embeddings**"
   ]
  },
  {
   "cell_type": "markdown",
   "metadata": {},
   "source": [
    "Let us begin by vectorizing `X` and `y`. Here, we use `keras`'s tokenizer because it allows us to preprocess the data in a simpler and more convenient fashion than Pytorch's `torchtext` or `pytorch-nlp`. "
   ]
  },
  {
   "cell_type": "code",
   "execution_count": 7,
   "metadata": {},
   "outputs": [
    {
     "name": "stdout",
     "output_type": "stream",
     "text": [
      "Vocabulary size:  219191\n"
     ]
    }
   ],
   "source": [
    "# Initiate Keras tokenizer and vectorizer\n",
    "tokenizer = Tokenizer()\n",
    "tokenizer.fit_on_texts(X_train_split)\n",
    "\n",
    "# Transfrom X into vectorized values\n",
    "X_train_transformed = tokenizer.texts_to_sequences(X_train_split)\n",
    "X_val_transformed = tokenizer.texts_to_sequences(X_val_split)\n",
    "X_test_transformed = tokenizer.texts_to_sequences(X_test_split)\n",
    "\n",
    "# View vocabulary size\n",
    "print(\"Vocabulary size: \", len(tokenizer.word_index))"
   ]
  },
  {
   "cell_type": "code",
   "execution_count": 8,
   "metadata": {},
   "outputs": [],
   "source": [
    "# Initiate the label encoder to convert target data into (0, 1) instead of (0, 4)\n",
    "label_encoder = LabelEncoder()\n",
    "\n",
    "# Transform y into numerical values (0, 1)\n",
    "y_train = label_encoder.fit_transform(y_train)\n",
    "y_val = label_encoder.transform(y_val)\n",
    "y_test = label_encoder.transform(y_test)"
   ]
  },
  {
   "cell_type": "markdown",
   "metadata": {},
   "source": [
    "We are not yet finished. From the summary, it is quite noticeable that the lengths of the word vectors are largely uneven and deviating. This is why we should always consider padding/truncating during preprocessing. While this is not required for all deep learning model, uneven length in data may give the model a harder time to process batches and slow down the computation process. "
   ]
  },
  {
   "cell_type": "code",
   "execution_count": 9,
   "metadata": {},
   "outputs": [
    {
     "name": "stdout",
     "output_type": "stream",
     "text": [
      "Statistics summary of vector lengths in X_transformed: \n"
     ]
    },
    {
     "data": {
      "text/plain": [
       "count    1595926.00\n",
       "mean          13.09\n",
       "std            7.23\n",
       "min            1.00\n",
       "25%            7.00\n",
       "50%           12.00\n",
       "75%           19.00\n",
       "90%           24.00\n",
       "97.5%         27.00\n",
       "max           53.00\n",
       "dtype: object"
      ]
     },
     "execution_count": 9,
     "metadata": {},
     "output_type": "execute_result"
    }
   ],
   "source": [
    "print('Statistics summary of vector lengths in X_transformed: ')\n",
    "pd.Series([len(text.split()) for text in X]).describe(percentiles=[.25, .5, .75, .9, .975]).apply(\"{0:.2f}\".format)"
   ]
  },
  {
   "cell_type": "code",
   "execution_count": 10,
   "metadata": {},
   "outputs": [
    {
     "data": {
      "image/png": "[encoded data removed]",
      "text/plain": [
       "<Figure size 640x480 with 1 Axes>"
      ]
     },
     "metadata": {},
     "output_type": "display_data"
    }
   ],
   "source": [
    "plt.hist([len(text.split()) for text in X])\n",
    "plt.show()"
   ]
  },
  {
   "cell_type": "markdown",
   "metadata": {},
   "source": [
    "\n",
    "\n",
    "For our case, we can see that the maximum size is quite short (50 tokens) so there is no need for truncation. However, padding will be performed to ensure that the vectors have the same length."
   ]
  },
  {
   "cell_type": "code",
   "execution_count": 11,
   "metadata": {},
   "outputs": [
    {
     "name": "stdout",
     "output_type": "stream",
     "text": [
      "Statistics summary of vector lengths in X_transformed: \n"
     ]
    },
    {
     "data": {
      "text/plain": [
       "count    1436333.00\n",
       "mean          25.00\n",
       "std            0.00\n",
       "min           25.00\n",
       "25%           25.00\n",
       "50%           25.00\n",
       "75%           25.00\n",
       "max           25.00\n",
       "dtype: object"
      ]
     },
     "execution_count": 11,
     "metadata": {},
     "output_type": "execute_result"
    }
   ],
   "source": [
    "# Perform padding on X_transformed\n",
    "X_train_transformed = pad_sequences(X_train_transformed, maxlen=25, padding='post', truncating='post')\n",
    "X_val_transformed = pad_sequences(X_val_transformed, maxlen=25, padding='post', truncating='post')\n",
    "X_test_transformed = pad_sequences(X_test_transformed, maxlen=25, padding='post', truncating='post')\n",
    "\n",
    "print('Statistics summary of vector lengths in X_transformed: ')\n",
    "pd.Series([len(text) for text in X_train_transformed]).describe().apply(\"{0:.2f}\".format)"
   ]
  },
  {
   "cell_type": "code",
   "execution_count": 12,
   "metadata": {},
   "outputs": [],
   "source": [
    "train_set = TensorDataset(torch.tensor(X_train_transformed), torch.tensor(y_train).reshape(-1, 1))\n",
    "val_set = TensorDataset(torch.tensor(X_val_transformed), torch.tensor(y_val).reshape(-1, 1))\n",
    "test_set = TensorDataset(torch.tensor(X_test_transformed), torch.tensor(y_test).reshape(-1, 1))\n",
    "\n",
    "train_loader = DataLoader(train_set, batch_size=128, shuffle=True)\n",
    "val_loader = DataLoader(val_set, batch_size=128)\n",
    "test_loader = DataLoader(test_set, batch_size=128)"
   ]
  },
  {
   "cell_type": "markdown",
   "metadata": {},
   "source": [
    "Now, we may continue building the embedding word vectors from our built vocabulary. The idea is to loop through each item in our vocabulary to see for each word if GloVe has the embedding vectors for it. If yes, we may load it into our embeddings matrix; otherwise, we leave it as empty (fill with zeros)."
   ]
  },
  {
   "cell_type": "code",
   "execution_count": 13,
   "metadata": {},
   "outputs": [],
   "source": [
    "# Obtain the vocabulary size of our data \n",
    "# (+1 is to add padding token, which is not initially included in the vocabulary)\n",
    "VOCAB_SIZE = len(tokenizer.word_index) + 1\n",
    "\n",
    "# Embedding size. This is the default dimensions of the GloVe's embeddings.\n",
    "EMBEDDINGS_DIM = 300\n",
    "\n",
    "OUTPUT_SIZE = 1\n",
    "HIDDEN_SIZE = 512\n",
    "BATCH_SIZE = 128\n",
    "NUM_EPOCHS = 80"
   ]
  },
  {
   "cell_type": "code",
   "execution_count": 14,
   "metadata": {},
   "outputs": [],
   "source": [
    "# Initiate an empty matrix as a embeddings container\n",
    "embedding_matrix = np.zeros((VOCAB_SIZE, EMBEDDINGS_DIM))\n",
    "\n",
    "# Loading GloVe weights into our embedding matrix\n",
    "for word, index in tokenizer.word_index.items():\n",
    "  if word in kv_model:\n",
    "    embedding_matrix[index] = kv_model[word].copy()\n",
    "\n",
    "embedding_matrix = torch.FloatTensor(embedding_matrix)"
   ]
  },
  {
   "cell_type": "markdown",
   "metadata": {},
   "source": [
    "Let us look at the shape of the embedding matrix for dimensionality check. It should be (vocabulary size, embeddings dimension)."
   ]
  },
  {
   "cell_type": "code",
   "execution_count": 15,
   "metadata": {},
   "outputs": [
    {
     "data": {
      "text/plain": [
       "torch.Size([219192, 300])"
      ]
     },
     "execution_count": 15,
     "metadata": {},
     "output_type": "execute_result"
    }
   ],
   "source": [
    "embedding_matrix.shape"
   ]
  },
  {
   "cell_type": "markdown",
   "metadata": {},
   "source": [
    "Feed foward model:"
   ]
  },
  {
   "cell_type": "code",
   "execution_count": 16,
   "metadata": {},
   "outputs": [
    {
     "name": "stdout",
     "output_type": "stream",
     "text": [
      "cuda\n"
     ]
    }
   ],
   "source": [
    "device = torch.device(\"cuda\" if torch.cuda.is_available() else \"cpu\")\n",
    "print(device)"
   ]
  },
  {
   "cell_type": "code",
   "execution_count": 17,
   "metadata": {},
   "outputs": [],
   "source": [
    "torch.manual_seed(13)\n",
    "if torch.cuda.is_available():\n",
    "  torch.cuda.manual_seed_all(13)\n",
    "torch.backends.cudnn.deterministic = True\n",
    "torch.backends.cudnn.benchmark = False"
   ]
  },
  {
   "cell_type": "code",
   "execution_count": 18,
   "metadata": {},
   "outputs": [
    {
     "name": "stdout",
     "output_type": "stream",
     "text": [
      "FeedForward(\n",
      "  (embedding): Embedding(219192, 300)\n",
      "  (linear_relu_stack): Sequential(\n",
      "    (0): Linear(in_features=300, out_features=512, bias=True)\n",
      "    (1): ReLU()\n",
      "    (2): Dropout(p=0.4, inplace=False)\n",
      "    (3): Linear(in_features=512, out_features=256, bias=True)\n",
      "    (4): ReLU()\n",
      "    (5): Linear(in_features=256, out_features=1, bias=True)\n",
      "    (6): Sigmoid()\n",
      "  )\n",
      ")\n"
     ]
    }
   ],
   "source": [
    "class FeedForward(nn.Module):\n",
    "  def __init__(self, output_size, embedding_dim, hidden_size, dropout=0.2):\n",
    "    super(FeedForward, self).__init__()\n",
    "    self.embedding = nn.Embedding.from_pretrained(embedding_matrix)\n",
    "    self.linear_relu_stack = nn.Sequential(\n",
    "      nn.Linear(in_features=embedding_dim, out_features=hidden_size),\n",
    "      nn.ReLU(),\n",
    "      nn.Dropout(p=dropout),\n",
    "      nn.Linear(in_features=hidden_size, out_features=hidden_size//2),\n",
    "      nn.ReLU(),\n",
    "      nn.Linear(in_features=hidden_size//2, out_features=output_size),\n",
    "      nn.Sigmoid()\n",
    "    ) \n",
    "\n",
    "  def forward(self, input):\n",
    "    emb = self.embedding(input)\n",
    "    emb = torch.sum(emb, dim=1)\n",
    "    out = self.linear_relu_stack(emb)\n",
    "    return out\n",
    "\n",
    "model = FeedForward(OUTPUT_SIZE, EMBEDDINGS_DIM, HIDDEN_SIZE, 0.4).to(device)\n",
    "print(model)"
   ]
  },
  {
   "cell_type": "code",
   "execution_count": 19,
   "metadata": {},
   "outputs": [],
   "source": [
    "class EarlyStopper:\n",
    "  def __init__(self, patience=1, min_delta=0):\n",
    "    self.patience = patience\n",
    "    self.min_delta = min_delta\n",
    "    self.counter = 0\n",
    "    self.min_validation_loss = np.inf\n",
    "\n",
    "  def early_stop(self, validation_loss):\n",
    "    if validation_loss < self.min_validation_loss:\n",
    "      self.min_validation_loss = validation_loss\n",
    "      self.counter = 0\n",
    "    elif validation_loss > (self.min_validation_loss + self.min_delta):\n",
    "      self.counter += 1\n",
    "      if self.counter >= self.patience:\n",
    "        return True\n",
    "    return False"
   ]
  },
  {
   "cell_type": "code",
   "execution_count": 20,
   "metadata": {},
   "outputs": [],
   "source": [
    "def evaluate(model, data_loader, data_set, criterion):\n",
    "  model.eval()\n",
    "  total_correct = 0\n",
    "  total_loss = 0\n",
    "  with torch.no_grad():\n",
    "    for input, target in val_loader:\n",
    "      if torch.cuda.is_available():\n",
    "        input, target = input.to(device), target.to(device)\n",
    "\n",
    "      output = model(input)\n",
    "      loss = criterion(output, target.float())\n",
    "      total_loss += loss\n",
    "      total_correct += ((output>0.5)==target).sum()\n",
    "\n",
    "  return (total_loss/len(data_loader), total_correct/len(data_set))"
   ]
  },
  {
   "cell_type": "code",
   "execution_count": 21,
   "metadata": {},
   "outputs": [
    {
     "name": "stdout",
     "output_type": "stream",
     "text": [
      "Epoch 1/80 | Training loss: 0.4695, Training accuracy: 0.7775, Validation loss: 0.4454, Validation accuracy: 0.7914\n",
      "Epoch 2/80 | Training loss: 0.4417, Training accuracy: 0.7925, Validation loss: 0.4337, Validation accuracy: 0.7974\n",
      "Epoch 3/80 | Training loss: 0.4321, Training accuracy: 0.7979, Validation loss: 0.4264, Validation accuracy: 0.8020\n",
      "Epoch 4/80 | Training loss: 0.4259, Training accuracy: 0.8014, Validation loss: 0.4228, Validation accuracy: 0.8030\n",
      "Epoch 5/80 | Training loss: 0.4217, Training accuracy: 0.8035, Validation loss: 0.4207, Validation accuracy: 0.8051\n",
      "Epoch 6/80 | Training loss: 0.4180, Training accuracy: 0.8055, Validation loss: 0.4188, Validation accuracy: 0.8065\n",
      "Epoch 7/80 | Training loss: 0.4148, Training accuracy: 0.8074, Validation loss: 0.4171, Validation accuracy: 0.8069\n",
      "Epoch 8/80 | Training loss: 0.4124, Training accuracy: 0.8087, Validation loss: 0.4165, Validation accuracy: 0.8071\n",
      "Epoch 9/80 | Training loss: 0.4098, Training accuracy: 0.8101, Validation loss: 0.4147, Validation accuracy: 0.8084\n",
      "Epoch 10/80 | Training loss: 0.4079, Training accuracy: 0.8113, Validation loss: 0.4148, Validation accuracy: 0.8073\n",
      "Epoch 11/80 | Training loss: 0.4060, Training accuracy: 0.8122, Validation loss: 0.4135, Validation accuracy: 0.8091\n",
      "Epoch 12/80 | Training loss: 0.4045, Training accuracy: 0.8129, Validation loss: 0.4135, Validation accuracy: 0.8090\n",
      "Epoch 13/80 | Training loss: 0.4028, Training accuracy: 0.8140, Validation loss: 0.4130, Validation accuracy: 0.8088\n",
      "Epoch 14/80 | Training loss: 0.4013, Training accuracy: 0.8148, Validation loss: 0.4130, Validation accuracy: 0.8093\n",
      "Epoch 15/80 | Training loss: 0.4001, Training accuracy: 0.8151, Validation loss: 0.4124, Validation accuracy: 0.8091\n",
      "Epoch 16/80 | Training loss: 0.3987, Training accuracy: 0.8162, Validation loss: 0.4124, Validation accuracy: 0.8089\n",
      "Epoch 17/80 | Training loss: 0.3975, Training accuracy: 0.8169, Validation loss: 0.4122, Validation accuracy: 0.8091\n",
      "Epoch 18/80 | Training loss: 0.3963, Training accuracy: 0.8176, Validation loss: 0.4118, Validation accuracy: 0.8101\n",
      "Epoch 19/80 | Training loss: 0.3950, Training accuracy: 0.8183, Validation loss: 0.4119, Validation accuracy: 0.8097\n",
      "Epoch 20/80 | Training loss: 0.3945, Training accuracy: 0.8183, Validation loss: 0.4117, Validation accuracy: 0.8094\n",
      "Epoch 21/80 | Training loss: 0.3935, Training accuracy: 0.8192, Validation loss: 0.4121, Validation accuracy: 0.8089\n",
      "Epoch 22/80 | Training loss: 0.3923, Training accuracy: 0.8198, Validation loss: 0.4115, Validation accuracy: 0.8101\n",
      "Epoch 23/80 | Training loss: 0.3913, Training accuracy: 0.8203, Validation loss: 0.4125, Validation accuracy: 0.8105\n",
      "Epoch 24/80 | Training loss: 0.3904, Training accuracy: 0.8207, Validation loss: 0.4116, Validation accuracy: 0.8110\n",
      "Epoch 25/80 | Training loss: 0.3897, Training accuracy: 0.8211, Validation loss: 0.4110, Validation accuracy: 0.8101\n",
      "Epoch 26/80 | Training loss: 0.3889, Training accuracy: 0.8214, Validation loss: 0.4110, Validation accuracy: 0.8107\n",
      "Epoch 27/80 | Training loss: 0.3880, Training accuracy: 0.8220, Validation loss: 0.4123, Validation accuracy: 0.8099\n",
      "Epoch 28/80 | Training loss: 0.3874, Training accuracy: 0.8225, Validation loss: 0.4115, Validation accuracy: 0.8105\n",
      "Epoch 29/80 | Training loss: 0.3865, Training accuracy: 0.8229, Validation loss: 0.4113, Validation accuracy: 0.8108\n",
      "Epoch 30/80 | Training loss: 0.3858, Training accuracy: 0.8233, Validation loss: 0.4115, Validation accuracy: 0.8101\n",
      "Epoch 31/80 | Training loss: 0.3856, Training accuracy: 0.8230, Validation loss: 0.4115, Validation accuracy: 0.8106\n",
      "Epoch 32/80 | Training loss: 0.3846, Training accuracy: 0.8238, Validation loss: 0.4117, Validation accuracy: 0.8106\n",
      "Epoch 33/80 | Training loss: 0.3842, Training accuracy: 0.8239, Validation loss: 0.4114, Validation accuracy: 0.8107\n",
      "Epoch 34/80 | Training loss: 0.3834, Training accuracy: 0.8244, Validation loss: 0.4120, Validation accuracy: 0.8107\n",
      "Epoch 35/80 | Training loss: 0.3828, Training accuracy: 0.8248, Validation loss: 0.4131, Validation accuracy: 0.8090\n",
      "Epoch 36/80 | Training loss: 0.3825, Training accuracy: 0.8249, Validation loss: 0.4127, Validation accuracy: 0.8092\n",
      "Epoch 37/80 | Training loss: 0.3816, Training accuracy: 0.8255, Validation loss: 0.4122, Validation accuracy: 0.8097\n",
      "Epoch 38/80 | Training loss: 0.3813, Training accuracy: 0.8256, Validation loss: 0.4121, Validation accuracy: 0.8098\n",
      "Epoch 39/80 | Training loss: 0.3810, Training accuracy: 0.8257, Validation loss: 0.4127, Validation accuracy: 0.8106\n",
      "Epoch 40/80 | Training loss: 0.3803, Training accuracy: 0.8262, Validation loss: 0.4132, Validation accuracy: 0.8101\n",
      "Epoch 41/80 | Training loss: 0.3799, Training accuracy: 0.8266, Validation loss: 0.4129, Validation accuracy: 0.8105\n",
      "Epoch 42/80 | Training loss: 0.3793, Training accuracy: 0.8266, Validation loss: 0.4126, Validation accuracy: 0.8100\n",
      "Epoch 43/80 | Training loss: 0.3787, Training accuracy: 0.8270, Validation loss: 0.4134, Validation accuracy: 0.8100\n",
      "Epoch 44/80 | Training loss: 0.3789, Training accuracy: 0.8271, Validation loss: 0.4135, Validation accuracy: 0.8100\n",
      "Epoch 45/80 | Training loss: 0.3781, Training accuracy: 0.8274, Validation loss: 0.4146, Validation accuracy: 0.8090\n",
      "Epoch 46/80 | Training loss: 0.3778, Training accuracy: 0.8276, Validation loss: 0.4125, Validation accuracy: 0.8096\n",
      "Epoch 47/80 | Training loss: 0.3773, Training accuracy: 0.8274, Validation loss: 0.4140, Validation accuracy: 0.8097\n",
      "Epoch 48/80 | Training loss: 0.3768, Training accuracy: 0.8279, Validation loss: 0.4131, Validation accuracy: 0.8099\n",
      "Epoch 49/80 | Training loss: 0.3766, Training accuracy: 0.8281, Validation loss: 0.4132, Validation accuracy: 0.8099\n",
      "Epoch 50/80 | Training loss: 0.3758, Training accuracy: 0.8283, Validation loss: 0.4139, Validation accuracy: 0.8103\n",
      "Epoch 51/80 | Training loss: 0.3756, Training accuracy: 0.8286, Validation loss: 0.4135, Validation accuracy: 0.8100\n",
      "Epoch 52/80 | Training loss: 0.3751, Training accuracy: 0.8289, Validation loss: 0.4133, Validation accuracy: 0.8110\n",
      "Epoch 53/80 | Training loss: 0.3749, Training accuracy: 0.8290, Validation loss: 0.4143, Validation accuracy: 0.8088\n",
      "Epoch 54/80 | Training loss: 0.3745, Training accuracy: 0.8292, Validation loss: 0.4138, Validation accuracy: 0.8100\n",
      "Epoch 55/80 | Training loss: 0.3738, Training accuracy: 0.8297, Validation loss: 0.4132, Validation accuracy: 0.8103\n",
      "Epoch 56/80 | Training loss: 0.3735, Training accuracy: 0.8296, Validation loss: 0.4132, Validation accuracy: 0.8099\n",
      "Epoch 57/80 | Training loss: 0.3729, Training accuracy: 0.8303, Validation loss: 0.4135, Validation accuracy: 0.8103\n",
      "Epoch 58/80 | Training loss: 0.3733, Training accuracy: 0.8298, Validation loss: 0.4135, Validation accuracy: 0.8111\n",
      "Epoch 59/80 | Training loss: 0.3729, Training accuracy: 0.8302, Validation loss: 0.4134, Validation accuracy: 0.8103\n",
      "Epoch 60/80 | Training loss: 0.3724, Training accuracy: 0.8304, Validation loss: 0.4129, Validation accuracy: 0.8103\n",
      "Epoch 61/80 | Training loss: 0.3722, Training accuracy: 0.8302, Validation loss: 0.4140, Validation accuracy: 0.8101\n",
      "Epoch 62/80 | Training loss: 0.3714, Training accuracy: 0.8307, Validation loss: 0.4135, Validation accuracy: 0.8103\n",
      "Epoch 63/80 | Training loss: 0.3713, Training accuracy: 0.8312, Validation loss: 0.4131, Validation accuracy: 0.8104\n",
      "Epoch 64/80 | Training loss: 0.3711, Training accuracy: 0.8309, Validation loss: 0.4147, Validation accuracy: 0.8100\n",
      "Epoch 65/80 | Training loss: 0.3707, Training accuracy: 0.8313, Validation loss: 0.4140, Validation accuracy: 0.8106\n",
      "Epoch 66/80 | Training loss: 0.3708, Training accuracy: 0.8308, Validation loss: 0.4141, Validation accuracy: 0.8109\n",
      "Epoch 67/80 | Training loss: 0.3702, Training accuracy: 0.8317, Validation loss: 0.4145, Validation accuracy: 0.8107\n",
      "Epoch 68/80 | Training loss: 0.3698, Training accuracy: 0.8318, Validation loss: 0.4144, Validation accuracy: 0.8099\n",
      "Epoch 69/80 | Training loss: 0.3699, Training accuracy: 0.8315, Validation loss: 0.4151, Validation accuracy: 0.8100\n",
      "Epoch 70/80 | Training loss: 0.3693, Training accuracy: 0.8318, Validation loss: 0.4154, Validation accuracy: 0.8104\n",
      "Epoch 71/80 | Training loss: 0.3692, Training accuracy: 0.8319, Validation loss: 0.4142, Validation accuracy: 0.8104\n",
      "Epoch 72/80 | Training loss: 0.3688, Training accuracy: 0.8321, Validation loss: 0.4146, Validation accuracy: 0.8100\n",
      "Epoch 73/80 | Training loss: 0.3688, Training accuracy: 0.8322, Validation loss: 0.4150, Validation accuracy: 0.8101\n",
      "Epoch 74/80 | Training loss: 0.3687, Training accuracy: 0.8322, Validation loss: 0.4147, Validation accuracy: 0.8098\n",
      "Epoch 75/80 | Training loss: 0.3682, Training accuracy: 0.8325, Validation loss: 0.4148, Validation accuracy: 0.8099\n",
      "Epoch 76/80 | Training loss: 0.3682, Training accuracy: 0.8328, Validation loss: 0.4154, Validation accuracy: 0.8098\n",
      "Epoch 77/80 | Training loss: 0.3677, Training accuracy: 0.8331, Validation loss: 0.4151, Validation accuracy: 0.8101\n",
      "Epoch 78/80 | Training loss: 0.3672, Training accuracy: 0.8330, Validation loss: 0.4152, Validation accuracy: 0.8104\n",
      "Epoch 79/80 | Training loss: 0.3675, Training accuracy: 0.8330, Validation loss: 0.4153, Validation accuracy: 0.8097\n",
      "Epoch 80/80 | Training loss: 0.3668, Training accuracy: 0.8335, Validation loss: 0.4151, Validation accuracy: 0.8094\n"
     ]
    }
   ],
   "source": [
    "criterion = nn.BCELoss()\n",
    "optimizer = torch.optim.Adam(model.parameters(), lr=1e-4, weight_decay=1e-5)\n",
    "\n",
    "train_loss_arr = []\n",
    "train_accu_arr = []\n",
    "val_loss_arr = []\n",
    "val_accu_arr = []\n",
    "\n",
    "def train(model, train_loader, val_loader, train_set, val_set, optimizer, criterion, num_epochs=50):\n",
    "  early_stopper = EarlyStopper(patience=3, min_delta=0.005)\n",
    "  \n",
    "  for epoch in range(num_epochs):\n",
    "    total_train_loss = 0\n",
    "    total_train_correct = 0\n",
    "\n",
    "    model.train()\n",
    "    for input, target in train_loader:\n",
    "      if torch.cuda.is_available():\n",
    "        input, target = input.to(device), target.to(device)\n",
    "\n",
    "      output = model(input)\n",
    "\n",
    "      loss = criterion(output, target.float())\n",
    "      total_train_loss += loss\n",
    "      total_train_correct += ((output > 0.5)==target).sum()\n",
    "      \n",
    "      optimizer.zero_grad()\n",
    "      loss.backward()\n",
    "      optimizer.step()\n",
    "      \n",
    "    val_loss, val_accuracy = evaluate(model, val_loader, val_set, criterion)\n",
    "    train_loss = total_train_loss/len(train_loader)\n",
    "    train_accuracy = total_train_correct/len(train_set)\n",
    "\n",
    "    train_loss_arr.append(train_loss.item())\n",
    "    train_accu_arr.append(train_accuracy.item())\n",
    "    val_loss_arr.append(val_loss.item())\n",
    "    val_accu_arr.append(val_accuracy.item())\n",
    "    \n",
    "    if early_stopper.early_stop(val_loss.item()):             \n",
    "      break\n",
    "\n",
    "    print(f'Epoch {epoch+1}/{num_epochs} | ' +\n",
    "          f'Training loss: {train_loss:.4f}, Training accuracy: {train_accuracy:.4f}, ' + \n",
    "          f'Validation loss: {val_loss:.4f}, Validation accuracy: {val_accuracy:.4f}')\n",
    "\n",
    "train(model, train_loader, val_loader, train_set, val_set, optimizer, criterion, NUM_EPOCHS)"
   ]
  },
  {
   "cell_type": "code",
   "execution_count": 22,
   "metadata": {},
   "outputs": [],
   "source": [
    "# lr 1e-4, wd 1e-10, 4 linear layers, 0.2 dropout, batch size 128, 2048/1024/1024/1 hidden layers"
   ]
  },
  {
   "cell_type": "code",
   "execution_count": 23,
   "metadata": {},
   "outputs": [
    {
     "ename": "NameError",
     "evalue": "name 'loss_function' is not defined",
     "output_type": "error",
     "traceback": [
      "\u001b[1;31m---------------------------------------------------------------------------\u001b[0m",
      "\u001b[1;31mNameError\u001b[0m                                 Traceback (most recent call last)",
      "\u001b[1;32md:\\Personal folder\\Sentiment Analysis\\notebooks\\feedforward-model.ipynb Cell 30\u001b[0m in \u001b[0;36m1\n\u001b[1;32m----> <a href='vscode-notebook-cell:/d%3A/Personal%20folder/Sentiment%20Analysis/notebooks/feedforward-model.ipynb#X41sZmlsZQ%3D%3D?line=0'>1</a>\u001b[0m evaluate(model, test_loader, test_set, loss_function)\n",
      "\u001b[1;31mNameError\u001b[0m: name 'loss_function' is not defined"
     ]
    }
   ],
   "source": [
    "evaluate(model, test_loader, test_set, loss_function)"
   ]
  },
  {
   "cell_type": "code",
   "execution_count": null,
   "metadata": {},
   "outputs": [
    {
     "data": {
      "image/png": "[encoded data removed]",
      "text/plain": [
       "<Figure size 640x480 with 1 Axes>"
      ]
     },
     "metadata": {},
     "output_type": "display_data"
    }
   ],
   "source": [
    "plt.plot(train_loss_arr)\n",
    "plt.plot(val_loss_arr)\n",
    "plt.show()"
   ]
  },
  {
   "cell_type": "code",
   "execution_count": null,
   "metadata": {},
   "outputs": [
    {
     "data": {
      "image/png": "[encoded data removed]",
      "text/plain": [
       "<Figure size 640x480 with 1 Axes>"
      ]
     },
     "metadata": {},
     "output_type": "display_data"
    }
   ],
   "source": [
    "plt.plot(train_accu_arr)\n",
    "plt.plot(val_accu_arr)\n",
    "plt.show()"
   ]
  }
 ],
 "metadata": {
  "kernelspec": {
   "display_name": "Python 3",
   "language": "python",
   "name": "python3"
  },
  "language_info": {
   "codemirror_mode": {
    "name": "ipython",
    "version": 3
   },
   "file_extension": ".py",
   "mimetype": "text/x-python",
   "name": "python",
   "nbconvert_exporter": "python",
   "pygments_lexer": "ipython3",
   "version": "3.10.4"
  },
  "orig_nbformat": 4
 },
 "nbformat": 4,
 "nbformat_minor": 2
}
